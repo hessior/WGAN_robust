{
 "cells": [
  {
   "cell_type": "code",
   "execution_count": 1,
   "metadata": {},
   "outputs": [],
   "source": [
    "import tensorflow as tf\n",
    "import numpy as np\n",
    "from tensorflow.keras import layers"
   ]
  },
  {
   "cell_type": "code",
   "execution_count": 5,
   "metadata": {},
   "outputs": [
    {
     "name": "stdout",
     "output_type": "stream",
     "text": [
      "<class 'tensorflow.python.framework.ops.Tensor'>\n",
      "Tensor(\"input_2:0\", shape=(None, 32), dtype=float32)\n"
     ]
    }
   ],
   "source": [
    "## this returns a tf tensor, default dtype float32\n",
    "a = tf.keras.Input(shape=(32,))\n",
    "print(type(a))\n",
    "print(a)"
   ]
  },
  {
   "cell_type": "code",
   "execution_count": 6,
   "metadata": {},
   "outputs": [
    {
     "name": "stdout",
     "output_type": "stream",
     "text": [
      "<class 'tensorflow.python.keras.layers.core.Dense'> <tensorflow.python.keras.layers.core.Dense object at 0x6407bc090>\n",
      "<class 'tensorflow.python.framework.ops.Tensor'> Tensor(\"dense/Identity:0\", shape=(None, 32), dtype=float32)\n"
     ]
    }
   ],
   "source": [
    "layer1 = layers.Dense(units=32)\n",
    "b = layer1(a)\n",
    "print(type(layer1), layer1)\n",
    "print(type(b), b)"
   ]
  },
  {
   "cell_type": "markdown",
   "metadata": {},
   "source": [
    "## Variables are in layers!\n",
    "\n",
    "This is a very important improvement."
   ]
  },
  {
   "cell_type": "code",
   "execution_count": 7,
   "metadata": {},
   "outputs": [
    {
     "name": "stdout",
     "output_type": "stream",
     "text": [
      "[<tf.Variable 'dense/kernel:0' shape=(32, 32) dtype=float32, numpy=\n",
      "array([[ 0.133865  , -0.04843634, -0.09812762, ...,  0.27874354,\n",
      "         0.21136323,  0.16317135],\n",
      "       [ 0.20421574,  0.30377284,  0.2537503 , ...,  0.07005215,\n",
      "         0.14699122,  0.22445598],\n",
      "       [ 0.11953333, -0.12544125, -0.13686758, ...,  0.27800682,\n",
      "         0.01792789, -0.26387265],\n",
      "       ...,\n",
      "       [ 0.02681017,  0.00281221, -0.21837094, ..., -0.07517225,\n",
      "        -0.00626606, -0.12193899],\n",
      "       [-0.07470235,  0.03298074,  0.27674976, ...,  0.03329018,\n",
      "         0.21039078, -0.24598514],\n",
      "       [-0.15182306, -0.1844285 ,  0.01230803, ...,  0.13341823,\n",
      "        -0.10149907, -0.20628105]], dtype=float32)>, <tf.Variable 'dense/bias:0' shape=(32,) dtype=float32, numpy=\n",
      "array([0., 0., 0., 0., 0., 0., 0., 0., 0., 0., 0., 0., 0., 0., 0., 0., 0.,\n",
      "       0., 0., 0., 0., 0., 0., 0., 0., 0., 0., 0., 0., 0., 0., 0.],\n",
      "      dtype=float32)>]\n"
     ]
    }
   ],
   "source": [
    "print(layer1.trainable_variables)"
   ]
  },
  {
   "cell_type": "code",
   "execution_count": 8,
   "metadata": {},
   "outputs": [
    {
     "name": "stdout",
     "output_type": "stream",
     "text": [
      "<class 'tensorflow.python.keras.layers.core.Dense'> <tensorflow.python.keras.layers.core.Dense object at 0x6407bc050>\n",
      "<class 'tensorflow.python.framework.ops.Tensor'> Tensor(\"dense_1/Identity:0\", shape=(None, 32), dtype=float32)\n"
     ]
    }
   ],
   "source": [
    "## If I repeat, note new variables are created \n",
    "layer1 = layers.Dense(units=32)\n",
    "b = layer1(a)\n",
    "print(type(layer1), layer1)\n",
    "print(type(b), b)"
   ]
  },
  {
   "cell_type": "code",
   "execution_count": 9,
   "metadata": {},
   "outputs": [
    {
     "name": "stdout",
     "output_type": "stream",
     "text": [
      "[<tf.Variable 'dense_1/kernel:0' shape=(32, 32) dtype=float32, numpy=\n",
      "array([[-0.16973694, -0.14224553, -0.05370179, ...,  0.1359277 ,\n",
      "        -0.1714142 , -0.16668472],\n",
      "       [-0.06342873,  0.16366002, -0.12168093, ...,  0.10448933,\n",
      "         0.23279145, -0.29048535],\n",
      "       [ 0.22825101, -0.10507946,  0.30517873, ...,  0.00696236,\n",
      "        -0.036688  , -0.29182792],\n",
      "       ...,\n",
      "       [-0.07133119,  0.06890363, -0.02403533, ..., -0.0360502 ,\n",
      "         0.2354432 ,  0.22929683],\n",
      "       [ 0.11213613,  0.08414102,  0.01781783, ...,  0.07948905,\n",
      "        -0.16388135, -0.05343622],\n",
      "       [-0.25878513, -0.13250011,  0.08835912, ..., -0.10247107,\n",
      "        -0.05188489, -0.1198865 ]], dtype=float32)>, <tf.Variable 'dense_1/bias:0' shape=(32,) dtype=float32, numpy=\n",
      "array([0., 0., 0., 0., 0., 0., 0., 0., 0., 0., 0., 0., 0., 0., 0., 0., 0.,\n",
      "       0., 0., 0., 0., 0., 0., 0., 0., 0., 0., 0., 0., 0., 0., 0.],\n",
      "      dtype=float32)>]\n"
     ]
    }
   ],
   "source": [
    "print(layer1.trainable_variables)"
   ]
  },
  {
   "cell_type": "code",
   "execution_count": 18,
   "metadata": {},
   "outputs": [
    {
     "name": "stdout",
     "output_type": "stream",
     "text": [
      "<class 'tensorflow.python.keras.engine.training.Model'> <tensorflow.python.keras.engine.training.Model object at 0x111aa5c10>\n"
     ]
    }
   ],
   "source": [
    "model1 = tf.keras.Model(inputs=a, outputs=b)\n",
    "print(type(model1), model1)"
   ]
  },
  {
   "cell_type": "markdown",
   "metadata": {},
   "source": [
    "### When using Sequential to build models, better provide a shape for input."
   ]
  },
  {
   "cell_type": "code",
   "execution_count": 19,
   "metadata": {},
   "outputs": [],
   "source": [
    "model2 = tf.keras.Sequential([layers.Dense(units=24), layers.Dense(units=48)])"
   ]
  },
  {
   "cell_type": "code",
   "execution_count": 20,
   "metadata": {},
   "outputs": [
    {
     "name": "stdout",
     "output_type": "stream",
     "text": [
      "<class 'tensorflow.python.keras.engine.sequential.Sequential'> <tensorflow.python.keras.engine.sequential.Sequential object at 0x640b06f90>\n"
     ]
    }
   ],
   "source": [
    "print(type(model2), model2)"
   ]
  },
  {
   "cell_type": "code",
   "execution_count": 21,
   "metadata": {},
   "outputs": [
    {
     "data": {
      "text/plain": [
       "[<tf.Variable 'dense_1/kernel:0' shape=(32, 32) dtype=float32, numpy=\n",
       " array([[-0.16973694, -0.14224553, -0.05370179, ...,  0.1359277 ,\n",
       "         -0.1714142 , -0.16668472],\n",
       "        [-0.06342873,  0.16366002, -0.12168093, ...,  0.10448933,\n",
       "          0.23279145, -0.29048535],\n",
       "        [ 0.22825101, -0.10507946,  0.30517873, ...,  0.00696236,\n",
       "         -0.036688  , -0.29182792],\n",
       "        ...,\n",
       "        [-0.07133119,  0.06890363, -0.02403533, ..., -0.0360502 ,\n",
       "          0.2354432 ,  0.22929683],\n",
       "        [ 0.11213613,  0.08414102,  0.01781783, ...,  0.07948905,\n",
       "         -0.16388135, -0.05343622],\n",
       "        [-0.25878513, -0.13250011,  0.08835912, ..., -0.10247107,\n",
       "         -0.05188489, -0.1198865 ]], dtype=float32)>,\n",
       " <tf.Variable 'dense_1/bias:0' shape=(32,) dtype=float32, numpy=\n",
       " array([0., 0., 0., 0., 0., 0., 0., 0., 0., 0., 0., 0., 0., 0., 0., 0., 0.,\n",
       "        0., 0., 0., 0., 0., 0., 0., 0., 0., 0., 0., 0., 0., 0., 0.],\n",
       "       dtype=float32)>]"
      ]
     },
     "execution_count": 21,
     "metadata": {},
     "output_type": "execute_result"
    }
   ],
   "source": [
    "model1.variables"
   ]
  },
  {
   "cell_type": "code",
   "execution_count": 25,
   "metadata": {},
   "outputs": [],
   "source": [
    "model3 = tf.keras.Sequential([layers.Dense(units=4, input_shape=(12,)), layers.Dense(units=8)])"
   ]
  },
  {
   "cell_type": "code",
   "execution_count": 26,
   "metadata": {},
   "outputs": [
    {
     "data": {
      "text/plain": [
       "[<tf.Variable 'dense_4/kernel:0' shape=(12, 4) dtype=float32, numpy=\n",
       " array([[-0.5914894 ,  0.10128087, -0.42694655, -0.4753469 ],\n",
       "        [ 0.04127985,  0.24443352,  0.48028105,  0.47480017],\n",
       "        [ 0.17140222,  0.21734536,  0.18295193,  0.2648878 ],\n",
       "        [ 0.32091773,  0.5960737 , -0.5880058 , -0.11615151],\n",
       "        [-0.33808365,  0.4564373 ,  0.01838398,  0.2016136 ],\n",
       "        [-0.03390437, -0.58466834, -0.4653207 , -0.4093086 ],\n",
       "        [-0.21048361,  0.09715956,  0.33131355,  0.30175364],\n",
       "        [-0.47177762,  0.5991835 ,  0.4319858 ,  0.2990808 ],\n",
       "        [ 0.06384683, -0.01278383,  0.41011542,  0.41865283],\n",
       "        [ 0.31427103, -0.53588694,  0.25390577, -0.49624914],\n",
       "        [ 0.15503317,  0.31416315,  0.45171946, -0.3390214 ],\n",
       "        [-0.49191537,  0.24599952,  0.08665156, -0.5496595 ]],\n",
       "       dtype=float32)>,\n",
       " <tf.Variable 'dense_4/bias:0' shape=(4,) dtype=float32, numpy=array([0., 0., 0., 0.], dtype=float32)>,\n",
       " <tf.Variable 'dense_5/kernel:0' shape=(4, 8) dtype=float32, numpy=\n",
       " array([[-0.06503493, -0.1212135 ,  0.34539205,  0.30457324, -0.20098418,\n",
       "         -0.65091324,  0.20030576,  0.69928664],\n",
       "        [-0.44354987,  0.37095314,  0.22901875, -0.56302506, -0.62942576,\n",
       "         -0.6472984 , -0.62381583,  0.09996337],\n",
       "        [-0.24429426,  0.29979783, -0.47341263,  0.27253753,  0.12292838,\n",
       "          0.70597905, -0.49192083,  0.34075612],\n",
       "        [-0.40765476,  0.13247126, -0.18713284, -0.25807357,  0.6947451 ,\n",
       "          0.26376253, -0.31467444,  0.3143236 ]], dtype=float32)>,\n",
       " <tf.Variable 'dense_5/bias:0' shape=(8,) dtype=float32, numpy=array([0., 0., 0., 0., 0., 0., 0., 0.], dtype=float32)>]"
      ]
     },
     "execution_count": 26,
     "metadata": {},
     "output_type": "execute_result"
    }
   ],
   "source": [
    "model3.variables"
   ]
  },
  {
   "cell_type": "code",
   "execution_count": 28,
   "metadata": {},
   "outputs": [
    {
     "data": {
      "text/plain": [
       "['_TF_MODULE_IGNORED_PROPERTIES',\n",
       " '__call__',\n",
       " '__class__',\n",
       " '__delattr__',\n",
       " '__dict__',\n",
       " '__dir__',\n",
       " '__doc__',\n",
       " '__eq__',\n",
       " '__format__',\n",
       " '__ge__',\n",
       " '__getattribute__',\n",
       " '__gt__',\n",
       " '__hash__',\n",
       " '__init__',\n",
       " '__init_subclass__',\n",
       " '__le__',\n",
       " '__lt__',\n",
       " '__module__',\n",
       " '__ne__',\n",
       " '__new__',\n",
       " '__reduce__',\n",
       " '__reduce_ex__',\n",
       " '__repr__',\n",
       " '__setattr__',\n",
       " '__sizeof__',\n",
       " '__str__',\n",
       " '__subclasshook__',\n",
       " '__weakref__',\n",
       " '_activity_regularizer',\n",
       " '_add_inbound_node',\n",
       " '_add_variable_with_custom_getter',\n",
       " '_autocast',\n",
       " '_call_accepts_kwargs',\n",
       " '_call_arg_was_passed',\n",
       " '_call_fn_args',\n",
       " '_callable_losses',\n",
       " '_checkpoint_dependencies',\n",
       " '_clear_losses',\n",
       " '_collect_input_masks',\n",
       " '_compute_dtype',\n",
       " '_dedup_weights',\n",
       " '_deferred_dependencies',\n",
       " '_dtype',\n",
       " '_dtype_defaulted_to_floatx',\n",
       " '_dtype_policy',\n",
       " '_dynamic',\n",
       " '_eager_add_metric',\n",
       " '_eager_losses',\n",
       " '_expects_mask_arg',\n",
       " '_expects_training_arg',\n",
       " '_flatten',\n",
       " '_gather_children_attribute',\n",
       " '_gather_saveables_for_checkpoint',\n",
       " '_get_call_arg_value',\n",
       " '_get_existing_metric',\n",
       " '_get_node_attribute_at_index',\n",
       " '_get_trainable_state',\n",
       " '_handle_activity_regularization',\n",
       " '_handle_deferred_dependencies',\n",
       " '_handle_weight_regularization',\n",
       " '_inbound_nodes',\n",
       " '_init_call_fn_args',\n",
       " '_init_set_name',\n",
       " '_initial_weights',\n",
       " '_input_spec',\n",
       " '_is_layer',\n",
       " '_keras_api_names',\n",
       " '_keras_api_names_v1',\n",
       " '_layers',\n",
       " '_list_extra_dependencies_for_serialization',\n",
       " '_list_functions_for_serialization',\n",
       " '_lookup_dependency',\n",
       " '_losses',\n",
       " '_maybe_build',\n",
       " '_maybe_cast_inputs',\n",
       " '_maybe_create_attribute',\n",
       " '_maybe_initialize_trackable',\n",
       " '_metrics',\n",
       " '_name',\n",
       " '_name_based_attribute_restore',\n",
       " '_name_based_restores',\n",
       " '_name_scope',\n",
       " '_no_dependency',\n",
       " '_non_trainable_weights',\n",
       " '_obj_reference_counts',\n",
       " '_obj_reference_counts_dict',\n",
       " '_object_identifier',\n",
       " '_outbound_nodes',\n",
       " '_preload_simple_restoration',\n",
       " '_restore_from_checkpoint_position',\n",
       " '_self_name_based_restores',\n",
       " '_self_setattr_tracking',\n",
       " '_self_unconditional_checkpoint_dependencies',\n",
       " '_self_unconditional_deferred_dependencies',\n",
       " '_self_unconditional_dependency_names',\n",
       " '_self_update_uid',\n",
       " '_set_connectivity_metadata_',\n",
       " '_set_dtype_policy',\n",
       " '_set_mask_metadata',\n",
       " '_set_trainable_state',\n",
       " '_setattr_tracking',\n",
       " '_should_compute_mask',\n",
       " '_single_restoration_from_checkpoint_position',\n",
       " '_symbolic_add_metric',\n",
       " '_symbolic_call',\n",
       " '_tf_api_names',\n",
       " '_tf_api_names_v1',\n",
       " '_thread_local',\n",
       " '_track_trackable',\n",
       " '_trackable_saved_model_saver',\n",
       " '_tracking_metadata',\n",
       " '_trainable',\n",
       " '_trainable_weights',\n",
       " '_unconditional_checkpoint_dependencies',\n",
       " '_unconditional_dependency_names',\n",
       " '_update_uid',\n",
       " '_updates',\n",
       " '_warn_about_input_casting',\n",
       " 'activation',\n",
       " 'activity_regularizer',\n",
       " 'add_loss',\n",
       " 'add_metric',\n",
       " 'add_update',\n",
       " 'add_variable',\n",
       " 'add_weight',\n",
       " 'apply',\n",
       " 'bias',\n",
       " 'bias_constraint',\n",
       " 'bias_initializer',\n",
       " 'bias_regularizer',\n",
       " 'build',\n",
       " 'built',\n",
       " 'call',\n",
       " 'compute_mask',\n",
       " 'compute_output_shape',\n",
       " 'compute_output_signature',\n",
       " 'count_params',\n",
       " 'dtype',\n",
       " 'dynamic',\n",
       " 'from_config',\n",
       " 'get_config',\n",
       " 'get_input_at',\n",
       " 'get_input_mask_at',\n",
       " 'get_input_shape_at',\n",
       " 'get_losses_for',\n",
       " 'get_output_at',\n",
       " 'get_output_mask_at',\n",
       " 'get_output_shape_at',\n",
       " 'get_updates_for',\n",
       " 'get_weights',\n",
       " 'inbound_nodes',\n",
       " 'input',\n",
       " 'input_mask',\n",
       " 'input_shape',\n",
       " 'input_spec',\n",
       " 'kernel',\n",
       " 'kernel_constraint',\n",
       " 'kernel_initializer',\n",
       " 'kernel_regularizer',\n",
       " 'losses',\n",
       " 'metrics',\n",
       " 'name',\n",
       " 'name_scope',\n",
       " 'non_trainable_variables',\n",
       " 'non_trainable_weights',\n",
       " 'outbound_nodes',\n",
       " 'output',\n",
       " 'output_mask',\n",
       " 'output_shape',\n",
       " 'set_weights',\n",
       " 'stateful',\n",
       " 'submodules',\n",
       " 'supports_masking',\n",
       " 'trainable',\n",
       " 'trainable_variables',\n",
       " 'trainable_weights',\n",
       " 'units',\n",
       " 'updates',\n",
       " 'use_bias',\n",
       " 'variables',\n",
       " 'weights',\n",
       " 'with_name_scope']"
      ]
     },
     "execution_count": 28,
     "metadata": {},
     "output_type": "execute_result"
    }
   ],
   "source": [
    "dir(layer1)"
   ]
  },
  {
   "cell_type": "code",
   "execution_count": 32,
   "metadata": {},
   "outputs": [
    {
     "data": {
      "text/plain": [
       "True"
      ]
     },
     "execution_count": 32,
     "metadata": {},
     "output_type": "execute_result"
    }
   ],
   "source": [
    "layer1.trainable_variables == layer1.trainable_weights"
   ]
  },
  {
   "cell_type": "code",
   "execution_count": 33,
   "metadata": {},
   "outputs": [
    {
     "data": {
      "text/plain": [
       "<tf.Tensor 'dense_1/Identity:0' shape=(None, 32) dtype=float32>"
      ]
     },
     "execution_count": 33,
     "metadata": {},
     "output_type": "execute_result"
    }
   ],
   "source": [
    "layer1.output"
   ]
  },
  {
   "cell_type": "code",
   "execution_count": null,
   "metadata": {},
   "outputs": [],
   "source": []
  }
 ],
 "metadata": {
  "kernelspec": {
   "display_name": "Python 3",
   "language": "python",
   "name": "python3"
  },
  "language_info": {
   "codemirror_mode": {
    "name": "ipython",
    "version": 3
   },
   "file_extension": ".py",
   "mimetype": "text/x-python",
   "name": "python",
   "nbconvert_exporter": "python",
   "pygments_lexer": "ipython3",
   "version": "3.7.7"
  }
 },
 "nbformat": 4,
 "nbformat_minor": 4
}
